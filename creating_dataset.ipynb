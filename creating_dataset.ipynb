{
 "cells": [
  {
   "cell_type": "code",
   "execution_count": null,
   "id": "6f1cd405",
   "metadata": {},
   "outputs": [],
   "source": [
    "split_parameters = {\n",
    "    'main_die':[\n",
    "\n",
    "    ],\n",
    "    'advantage':[\n",
    "\n",
    "    ],\n",
    "    'disadvantage':[\n",
    "\n",
    "    ],\n",
    "    'additional_dice':[\n",
    "\n",
    "    ],\n",
    "    'positive_dice_signs':[\n",
    "\n",
    "    ],\n",
    "    'negative_dice_signs':[\n",
    "\n",
    "    ],\n",
    "    'DC':[\n",
    "\n",
    "    ],\n",
    "    'modifier':[\n",
    "\n",
    "    ],\n",
    "}"
   ]
  },
  {
   "cell_type": "markdown",
   "id": "6481ff18",
   "metadata": {},
   "source": [
    "Natural Language Input\tFunction Parameters\n",
    "Roll a standard D20 against a DC of 10 with no modifiers or advantage, plus two D4s subtracted and an extra D20 added.\tmain_die='D20', advantage='None', additional_dice=['D4','D4','D20'], dice_signs=[False, False, True], DC=10, modifier=0\n",
    "Roll with advantage on a D20, trying to beat a DC of 15. Add a D6 to the roll.\tmain_die='D20', advantage='Advantage', additional_dice=['D6'], dice_signs=[True], DC=15, modifier=0\n",
    "Make a D20 roll with disadvantage and subtract a D8. The DC is 12 and your modifier is +2.\tmain_die='D20', advantage='Disadvantage', additional_dice=['D8'], dice_signs=[False], DC=12, modifier=2\n",
    "Roll a D20 with no advantage, add a D6 and subtract a D4. The target DC is 18, with a +3 modifier.\tmain_die='D20', advantage='None', additional_dice=['D6','D4'], dice_signs=[True, False], DC=18, modifier=3\n",
    "Attempt a DC 14 check with a flat D20 roll. No extras or modifiers.\tmain_die='D20', advantage='None', additional_dice=[], dice_signs=[], DC=14, modifier=0\n",
    "Roll a D20 with advantage, add two D6s, and try to beat a DC of 20 with no modifier.\tmain_die='D20', advantage='Advantage', additional_dice=['D6','D6'], dice_signs=[True, True], DC=20, modifier=0\n",
    "Roll a D20 with disadvantage, subtract a D10, and beat a DC of 16. You have a -1 modifier.\tmain_die='D20', advantage='Disadvantage', additional_dice=['D10'], dice_signs=[False], DC=16, modifier=-1"
   ]
  },
  {
   "cell_type": "markdown",
   "id": "ba7faa23",
   "metadata": {},
   "source": []
  }
 ],
 "metadata": {
  "language_info": {
   "name": "python"
  }
 },
 "nbformat": 4,
 "nbformat_minor": 5
}
