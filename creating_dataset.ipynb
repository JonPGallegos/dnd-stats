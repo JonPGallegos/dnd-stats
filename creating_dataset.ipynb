{
 "cells": [
  {
   "cell_type": "code",
   "execution_count": null,
   "id": "94716d8b",
   "metadata": {},
   "outputs": [],
   "source": [
    "natural_language_base = {\n",
    "    'Roll a standard main_die against a DC of dc_var with no modifiers or advantage, plus dice_number dice_side dice_signs and an extra dice_number1 dice_side1 dice_signs1.':{\n",
    "            'main_die':[\n",
    "                    'D4',\n",
    "                    'D6',\n",
    "                    'D8',\n",
    "                    'D10',\n",
    "                    'D12',\n",
    "                    'D20'\n",
    "            ],\n",
    "            'advantage':{\n",
    "                'advantage':'None'\n",
    "            },\n",
    "            'additional_dice':{\n",
    "            'sides':[\n",
    "                '# |s'\n",
    "            ],\n",
    "            'positive_dice_signs':[\n",
    "                'plus'\n",
    "            ],\n",
    "            'negative_dice_signs':[\n",
    "\n",
    "            ]},\n",
    "            'no_additional_dice':[\n",
    "                'Roll a standard |',\n",
    "\n",
    "            ],\n",
    "            'no_advantage_modifiers':[\n",
    "                'no modifiers or advantage',\n",
    "\n",
    "            ],\n",
    "            'DC':[\n",
    "                'Roll a standard |',\n",
    "\n",
    "            ],\n",
    "            'modifier':[\n",
    "                0\n",
    "            ]\n",
    "    }\n",
    "}"
   ]
  },
  {
   "cell_type": "code",
   "execution_count": 29,
   "id": "6f1cd405",
   "metadata": {},
   "outputs": [],
   "source": [
    "main_die='D20'\n",
    "advantage='None'\n",
    "additional_dice = ['D4','D4','D20']\n",
    "dice_signs = [False, False, True]\n",
    "DC = 10\n",
    "modifier=0\n",
    "\n",
    "split_parameters = {\n",
    "    'main_die':{\n",
    "        'main_die':[\n",
    "            'Roll a standard | ',\n",
    "            'Make a | roll ',\n",
    "            'on a |, ',\n",
    "            'Roll a | ',\n",
    "            ' | roll. '\n",
    "        ]\n",
    "    },\n",
    "    'advantage':{\n",
    "        'advantage':[\n",
    "            'Roll with | ',\n",
    "            'with | '\n",
    "        ],\n",
    "        # 'disadvantage':[\n",
    "        #     'with disadvantage '\n",
    "        # ],\n",
    "        'none':[\n",
    "            'with no advantage ',\n",
    "            'using a flat roll ',\n",
    "            'with a flat '\n",
    "        ]\n",
    "    },\n",
    "    'additional_dice':{\n",
    "        'has_dice':[\n",
    "            'plus | ',\n",
    "            ' | to the roll ',\n",
    "            'and | '\n",
    "        ],\n",
    "        'none':[\n",
    "            'No extras or modifiers.'\n",
    "        ]\n",
    "    },\n",
    "    'modifier':{\n",
    "        'modifier':[\n",
    "            ' and your modifier is | ',\n",
    "            'with a | modifier '\n",
    "        ],\n",
    "        'no_modifier':[\n",
    "            'with no modifiers',\n",
    "            'with no bonus or penalty',\n",
    "            'No extras or modifiers.',\n",
    "            'with no modifier',\n",
    "            'You have a | modifier.'\n",
    "        ]\n",
    "    },\n",
    "    'DC':[\n",
    "        'with a target DC of | ',\n",
    "        'trying to beat a DC of | ',\n",
    "        'The DC is | ',\n",
    "        'The target DC is | ',\n",
    "        'Attempt a DC | check ',\n",
    "        ', and try to beat a DC of | ',\n",
    "        'and beat a DC of | '\n",
    "    ],\n",
    "}"
   ]
  },
  {
   "cell_type": "code",
   "execution_count": 3,
   "id": "026f8294",
   "metadata": {},
   "outputs": [
    {
     "name": "stdout",
     "output_type": "stream",
     "text": [
      "Random length: 3\n",
      "Random sequence: [4, 1, 3]\n"
     ]
    }
   ],
   "source": [
    "import random\n",
    "\n",
    "# Step 1: Generate a random number between 0 and 4 (inclusive)\n",
    "n = random.randint(1, 5)\n",
    "\n",
    "# Step 2: Generate a random sequence from 0 to 4, length = n, no replacement\n",
    "sequence = random.sample(range(1,6), k=n)\n",
    "\n",
    "print(\"Random length:\", n)\n",
    "print(\"Random sequence:\", sequence)\n"
   ]
  },
  {
   "cell_type": "code",
   "execution_count": null,
   "id": "081fcb83",
   "metadata": {},
   "outputs": [
    {
     "name": "stdout",
     "output_type": "stream",
     "text": [
      "has_dice\n",
      "none\n"
     ]
    }
   ],
   "source": [
    "text_data = {\n",
    "    'text':[\n",
    "\n",
    "    ],\n",
    "    'target':[\n",
    "\n",
    "    ]\n",
    "}\n",
    "\n",
    "main_die_samples = {\n",
    "    'text':[],\n",
    "    'target':[]\n",
    "}\n",
    "\n",
    "sides = (4, 6, 8, 10, 12, 20)\n",
    "dice = {'D'+ str(n) : n for n in sides} # D20 = 20 sided dice\n",
    "main_die = split_parameters['main_die']['main_die']\n",
    "for ss in main_die:\n",
    "    for die in dice:\n",
    "        main_die_samples['text'].append(ss.replace('|',die))\n",
    "        main_die_samples['target'].append(die)\n",
    "\n",
    "\n",
    "advantage_samples = {\n",
    "    'text':[],\n",
    "    'target':[]\n",
    "}\n",
    "\n",
    "advantage = split_parameters['advantage']\n",
    "\n",
    "for a in advantage:\n",
    "    if a == 'advantage':\n",
    "        for b in advantage[a]:\n",
    "            for c in ['Disadvantage','Advantage']:\n",
    "                advantage_samples['text'].append(b.replace('|',c))\n",
    "                advantage_samples['target'].append(c)\n",
    "    if a == 'none':\n",
    "        for b in advantage[a]:\n",
    "            advantage_samples['text'].append(b)\n",
    "            advantage_samples['target'].append('None')\n",
    "\n",
    "additional_dice_samples = {\n",
    "    'text':[],\n",
    "    'target':[]\n",
    "}\n",
    "\n",
    "additional_dice = split_parameters['additional_dice']\n",
    "\n",
    "for a in additional_dice:\n",
    "    if a == 'has_dice':\n",
    "        for b in advantage[a]:\n",
    "            for c in ['Disadvantage','Advantage']:\n",
    "                advantage_samples['text'].append(b.replace('|',c))\n",
    "                advantage_samples['target'].append(c)\n",
    "    if a == 'none':\n",
    "        for b in advantage[a]:\n",
    "            advantage_samples['text'].append(b)\n",
    "            advantage_samples['target'].append('None')\n",
    "\n",
    "\n",
    "\n"
   ]
  },
  {
   "cell_type": "code",
   "execution_count": 31,
   "id": "3bed38c8",
   "metadata": {},
   "outputs": [
    {
     "data": {
      "text/plain": [
       "{'text': ['Roll with Disadvantage ',\n",
       "  'Roll with Advantage ',\n",
       "  'with Disadvantage ',\n",
       "  'with Advantage ',\n",
       "  'with no advantage ',\n",
       "  'using a flat roll ',\n",
       "  'with a flat '],\n",
       " 'target': ['Disadvantage',\n",
       "  'Advantage',\n",
       "  'Disadvantage',\n",
       "  'Advantage',\n",
       "  'None',\n",
       "  'None',\n",
       "  'None']}"
      ]
     },
     "execution_count": 31,
     "metadata": {},
     "output_type": "execute_result"
    }
   ],
   "source": [
    "advantage_samples"
   ]
  },
  {
   "cell_type": "code",
   "execution_count": null,
   "id": "1ee04542",
   "metadata": {},
   "outputs": [
    {
     "data": {
      "text/plain": [
       "5"
      ]
     },
     "execution_count": 10,
     "metadata": {},
     "output_type": "execute_result"
    }
   ],
   "source": [
    "ss = split_parameters['main_die']['main_die']\n",
    "sample = ss[random.randint(0, len(ss))]"
   ]
  },
  {
   "cell_type": "markdown",
   "id": "6481ff18",
   "metadata": {},
   "source": [
    "Natural Language Input\tFunction Parameters\n",
    "Roll a standard D20 against a DC of 10 with no modifiers or advantage, plus two D4s subtracted and an extra D20 added.\tmain_die='D20', advantage='None', additional_dice=['D4','D4','D20'], dice_signs=[False, False, True], DC=10, modifier=0\n",
    "Roll with advantage on a D20, trying to beat a DC of 15. Add a D6 to the roll.\tmain_die='D20', advantage='Advantage', additional_dice=['D6'], dice_signs=[True], DC=15, modifier=0\n",
    "Make a D20 roll with disadvantage and subtract a D8. The DC is 12 and your modifier is +2.\tmain_die='D20', advantage='Disadvantage', additional_dice=['D8'], dice_signs=[False], DC=12, modifier=2\n",
    "Roll a D20 with no advantage, add a D6 and subtract a D4. The target DC is 18, with a +3 modifier.\tmain_die='D20', advantage='None', additional_dice=['D6','D4'], dice_signs=[True, False], DC=18, modifier=3\n",
    "Attempt a DC 14 check with a flat D20 roll. No extras or modifiers.\tmain_die='D20', advantage='None', additional_dice=[], dice_signs=[], DC=14, modifier=0\n",
    "Roll a D20 with advantage, add two D6s, and try to beat a DC of 20 with no modifier.\tmain_die='D20', advantage='Advantage', additional_dice=['D6','D6'], dice_signs=[True, True], DC=20, modifier=0\n",
    "Roll a D20 with disadvantage, subtract a D10, and beat a DC of 16. You have a -1 modifier.\tmain_die='D20', advantage='Disadvantage', additional_dice=['D10'], dice_signs=[False], DC=16, modifier=-1"
   ]
  },
  {
   "cell_type": "markdown",
   "id": "ba7faa23",
   "metadata": {},
   "source": []
  }
 ],
 "metadata": {
  "kernelspec": {
   "display_name": "Python 3",
   "language": "python",
   "name": "python3"
  },
  "language_info": {
   "codemirror_mode": {
    "name": "ipython",
    "version": 3
   },
   "file_extension": ".py",
   "mimetype": "text/x-python",
   "name": "python",
   "nbconvert_exporter": "python",
   "pygments_lexer": "ipython3",
   "version": "3.10.11"
  }
 },
 "nbformat": 4,
 "nbformat_minor": 5
}
