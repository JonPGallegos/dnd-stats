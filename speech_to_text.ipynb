{
 "cells": [
  {
   "cell_type": "code",
   "execution_count": 2,
   "id": "023633d1",
   "metadata": {},
   "outputs": [
    {
     "name": "stdout",
     "output_type": "stream",
     "text": [
      "Collecting vosk\n",
      "  Downloading vosk-0.3.45-py3-none-win_amd64.whl.metadata (1.8 kB)\n",
      "Requirement already satisfied: cffi>=1.0 in c:\\users\\jon\\appdata\\local\\programs\\python\\python311\\lib\\site-packages (from vosk) (1.16.0)\n",
      "Requirement already satisfied: requests in c:\\users\\jon\\appdata\\local\\programs\\python\\python311\\lib\\site-packages (from vosk) (2.32.3)\n",
      "Collecting srt (from vosk)\n",
      "  Downloading srt-3.5.3.tar.gz (28 kB)\n",
      "  Preparing metadata (setup.py): started\n",
      "  Preparing metadata (setup.py): finished with status 'done'\n",
      "Requirement already satisfied: tqdm in c:\\users\\jon\\appdata\\local\\programs\\python\\python311\\lib\\site-packages (from vosk) (4.66.4)\n",
      "Collecting websockets (from vosk)\n",
      "  Downloading websockets-15.0.1-cp311-cp311-win_amd64.whl.metadata (7.0 kB)\n",
      "Requirement already satisfied: pycparser in c:\\users\\jon\\appdata\\local\\programs\\python\\python311\\lib\\site-packages (from cffi>=1.0->vosk) (2.22)\n",
      "Requirement already satisfied: charset-normalizer<4,>=2 in c:\\users\\jon\\appdata\\local\\programs\\python\\python311\\lib\\site-packages (from requests->vosk) (3.3.2)\n",
      "Requirement already satisfied: idna<4,>=2.5 in c:\\users\\jon\\appdata\\local\\programs\\python\\python311\\lib\\site-packages (from requests->vosk) (3.6)\n",
      "Requirement already satisfied: urllib3<3,>=1.21.1 in c:\\users\\jon\\appdata\\local\\programs\\python\\python311\\lib\\site-packages (from requests->vosk) (2.2.1)\n",
      "Requirement already satisfied: certifi>=2017.4.17 in c:\\users\\jon\\appdata\\local\\programs\\python\\python311\\lib\\site-packages (from requests->vosk) (2024.2.2)\n",
      "Requirement already satisfied: colorama in c:\\users\\jon\\appdata\\roaming\\python\\python311\\site-packages (from tqdm->vosk) (0.4.6)\n",
      "Downloading vosk-0.3.45-py3-none-win_amd64.whl (14.0 MB)\n",
      "   ---------------------------------------- 0.0/14.0 MB ? eta -:--:--\n",
      "   ---------------------------------------- 0.1/14.0 MB 1.7 MB/s eta 0:00:09\n",
      "    --------------------------------------- 0.2/14.0 MB 2.5 MB/s eta 0:00:06\n",
      "   - -------------------------------------- 0.4/14.0 MB 3.0 MB/s eta 0:00:05\n",
      "   - -------------------------------------- 0.5/14.0 MB 3.1 MB/s eta 0:00:05\n",
      "   - -------------------------------------- 0.5/14.0 MB 2.2 MB/s eta 0:00:07\n",
      "   - -------------------------------------- 0.5/14.0 MB 2.3 MB/s eta 0:00:06\n",
      "   -- ------------------------------------- 1.0/14.0 MB 3.4 MB/s eta 0:00:04\n",
      "   -- ------------------------------------- 1.0/14.0 MB 3.4 MB/s eta 0:00:04\n",
      "   -- ------------------------------------- 1.0/14.0 MB 3.4 MB/s eta 0:00:04\n",
      "   ---- ----------------------------------- 1.7/14.0 MB 3.7 MB/s eta 0:00:04\n",
      "   ----- ---------------------------------- 1.9/14.0 MB 3.7 MB/s eta 0:00:04\n",
      "   ----- ---------------------------------- 2.0/14.0 MB 3.8 MB/s eta 0:00:04\n",
      "   ------ --------------------------------- 2.2/14.0 MB 3.8 MB/s eta 0:00:04\n",
      "   ------ --------------------------------- 2.4/14.0 MB 3.7 MB/s eta 0:00:04\n",
      "   ------- -------------------------------- 2.6/14.0 MB 3.8 MB/s eta 0:00:04\n",
      "   ------- -------------------------------- 2.8/14.0 MB 3.7 MB/s eta 0:00:04\n",
      "   -------- ------------------------------- 2.9/14.0 MB 3.8 MB/s eta 0:00:03\n",
      "   -------- ------------------------------- 3.1/14.0 MB 3.8 MB/s eta 0:00:03\n",
      "   --------- ------------------------------ 3.3/14.0 MB 3.8 MB/s eta 0:00:03\n",
      "   --------- ------------------------------ 3.5/14.0 MB 3.8 MB/s eta 0:00:03\n",
      "   ---------- ----------------------------- 3.7/14.0 MB 3.8 MB/s eta 0:00:03\n",
      "   ---------- ----------------------------- 3.8/14.0 MB 3.8 MB/s eta 0:00:03\n",
      "   ----------- ---------------------------- 4.0/14.0 MB 3.8 MB/s eta 0:00:03\n",
      "   ------------ --------------------------- 4.2/14.0 MB 3.9 MB/s eta 0:00:03\n",
      "   ------------ --------------------------- 4.4/14.0 MB 3.8 MB/s eta 0:00:03\n",
      "   ------------- -------------------------- 4.6/14.0 MB 3.8 MB/s eta 0:00:03\n",
      "   ------------- -------------------------- 4.8/14.0 MB 3.9 MB/s eta 0:00:03\n",
      "   ------------- -------------------------- 4.8/14.0 MB 3.9 MB/s eta 0:00:03\n",
      "   -------------- ------------------------- 5.0/14.0 MB 3.8 MB/s eta 0:00:03\n",
      "   -------------- ------------------------- 5.1/14.0 MB 3.7 MB/s eta 0:00:03\n",
      "   --------------- ------------------------ 5.3/14.0 MB 3.7 MB/s eta 0:00:03\n",
      "   --------------- ------------------------ 5.4/14.0 MB 3.7 MB/s eta 0:00:03\n",
      "   --------------- ------------------------ 5.6/14.0 MB 3.7 MB/s eta 0:00:03\n",
      "   ---------------- ----------------------- 5.7/14.0 MB 3.7 MB/s eta 0:00:03\n",
      "   ---------------- ----------------------- 5.9/14.0 MB 3.7 MB/s eta 0:00:03\n",
      "   ----------------- ---------------------- 6.1/14.0 MB 3.7 MB/s eta 0:00:03\n",
      "   ----------------- ---------------------- 6.2/14.0 MB 3.7 MB/s eta 0:00:03\n",
      "   ------------------ --------------------- 6.4/14.0 MB 3.7 MB/s eta 0:00:03\n",
      "   ------------------ --------------------- 6.6/14.0 MB 3.7 MB/s eta 0:00:03\n",
      "   ------------------- -------------------- 6.7/14.0 MB 3.7 MB/s eta 0:00:02\n",
      "   ------------------- -------------------- 6.9/14.0 MB 3.7 MB/s eta 0:00:02\n",
      "   -------------------- ------------------- 7.1/14.0 MB 3.7 MB/s eta 0:00:02\n",
      "   -------------------- ------------------- 7.2/14.0 MB 3.7 MB/s eta 0:00:02\n",
      "   --------------------- ------------------ 7.4/14.0 MB 3.7 MB/s eta 0:00:02\n",
      "   --------------------- ------------------ 7.6/14.0 MB 3.7 MB/s eta 0:00:02\n",
      "   ---------------------- ----------------- 7.8/14.0 MB 3.7 MB/s eta 0:00:02\n",
      "   ---------------------- ----------------- 7.9/14.0 MB 3.7 MB/s eta 0:00:02\n",
      "   ----------------------- ---------------- 8.1/14.0 MB 3.7 MB/s eta 0:00:02\n",
      "   ----------------------- ---------------- 8.3/14.0 MB 3.7 MB/s eta 0:00:02\n",
      "   ------------------------ --------------- 8.5/14.0 MB 3.7 MB/s eta 0:00:02\n",
      "   ------------------------ --------------- 8.6/14.0 MB 3.7 MB/s eta 0:00:02\n",
      "   ------------------------- -------------- 8.8/14.0 MB 3.7 MB/s eta 0:00:02\n",
      "   ------------------------- -------------- 8.9/14.0 MB 3.7 MB/s eta 0:00:02\n",
      "   -------------------------- ------------- 9.1/14.0 MB 3.7 MB/s eta 0:00:02\n",
      "   -------------------------- ------------- 9.3/14.0 MB 3.7 MB/s eta 0:00:02\n",
      "   --------------------------- ------------ 9.5/14.0 MB 3.7 MB/s eta 0:00:02\n",
      "   --------------------------- ------------ 9.7/14.0 MB 3.7 MB/s eta 0:00:02\n",
      "   ---------------------------- ----------- 9.9/14.0 MB 3.7 MB/s eta 0:00:02\n",
      "   ---------------------------- ----------- 10.0/14.0 MB 3.7 MB/s eta 0:00:02\n",
      "   ----------------------------- ---------- 10.2/14.0 MB 3.7 MB/s eta 0:00:02\n",
      "   ----------------------------- ---------- 10.4/14.0 MB 3.7 MB/s eta 0:00:01\n",
      "   ------------------------------ --------- 10.6/14.0 MB 3.7 MB/s eta 0:00:01\n",
      "   ------------------------------ --------- 10.8/14.0 MB 3.8 MB/s eta 0:00:01\n",
      "   ------------------------------- -------- 10.9/14.0 MB 3.9 MB/s eta 0:00:01\n",
      "   ------------------------------- -------- 11.1/14.0 MB 3.8 MB/s eta 0:00:01\n",
      "   -------------------------------- ------- 11.3/14.0 MB 3.9 MB/s eta 0:00:01\n",
      "   -------------------------------- ------- 11.5/14.0 MB 3.9 MB/s eta 0:00:01\n",
      "   --------------------------------- ------ 11.7/14.0 MB 3.8 MB/s eta 0:00:01\n",
      "   --------------------------------- ------ 11.8/14.0 MB 3.8 MB/s eta 0:00:01\n",
      "   ---------------------------------- ----- 12.0/14.0 MB 3.8 MB/s eta 0:00:01\n",
      "   ---------------------------------- ----- 12.2/14.0 MB 3.7 MB/s eta 0:00:01\n",
      "   ----------------------------------- ---- 12.4/14.0 MB 3.7 MB/s eta 0:00:01\n",
      "   ----------------------------------- ---- 12.6/14.0 MB 3.8 MB/s eta 0:00:01\n",
      "   ------------------------------------ --- 12.7/14.0 MB 3.8 MB/s eta 0:00:01\n",
      "   ------------------------------------ --- 12.9/14.0 MB 3.8 MB/s eta 0:00:01\n",
      "   ------------------------------------- -- 13.1/14.0 MB 3.8 MB/s eta 0:00:01\n",
      "   ------------------------------------- -- 13.3/14.0 MB 3.8 MB/s eta 0:00:01\n",
      "   -------------------------------------- - 13.5/14.0 MB 3.8 MB/s eta 0:00:01\n",
      "   -------------------------------------- - 13.6/14.0 MB 3.8 MB/s eta 0:00:01\n",
      "   ---------------------------------------  13.8/14.0 MB 3.8 MB/s eta 0:00:01\n",
      "   ---------------------------------------  14.0/14.0 MB 3.8 MB/s eta 0:00:01\n",
      "   ---------------------------------------- 14.0/14.0 MB 3.7 MB/s eta 0:00:00\n",
      "Downloading websockets-15.0.1-cp311-cp311-win_amd64.whl (176 kB)\n",
      "   ---------------------------------------- 0.0/176.8 kB ? eta -:--:--\n",
      "   ---------------------------------------  174.1/176.8 kB 3.5 MB/s eta 0:00:01\n",
      "   ---------------------------------------- 176.8/176.8 kB 3.5 MB/s eta 0:00:00\n",
      "Building wheels for collected packages: srt\n",
      "  Building wheel for srt (setup.py): started\n",
      "  Building wheel for srt (setup.py): finished with status 'done'\n",
      "  Created wheel for srt: filename=srt-3.5.3-py3-none-any.whl size=22556 sha256=cf447393c469d3251509096643ff2605221d860186d8e41c58b55c1f79aaf6e1\n",
      "  Stored in directory: c:\\users\\jon\\appdata\\local\\pip\\cache\\wheels\\1f\\43\\f1\\23ee9119497fcb57d9f7046fbf34c6d9027c46a1fa7824cf08\n",
      "Successfully built srt\n",
      "Installing collected packages: websockets, srt, vosk\n",
      "Successfully installed srt-3.5.3 vosk-0.3.45 websockets-15.0.1\n",
      "Note: you may need to restart the kernel to use updated packages.\n"
     ]
    },
    {
     "name": "stderr",
     "output_type": "stream",
     "text": [
      "  WARNING: The script websockets.exe is installed in 'c:\\Users\\Jon\\AppData\\Local\\Programs\\Python\\Python311\\Scripts' which is not on PATH.\n",
      "  Consider adding this directory to PATH or, if you prefer to suppress this warning, use --no-warn-script-location.\n",
      "  WARNING: The script vosk-transcriber.exe is installed in 'c:\\Users\\Jon\\AppData\\Local\\Programs\\Python\\Python311\\Scripts' which is not on PATH.\n",
      "  Consider adding this directory to PATH or, if you prefer to suppress this warning, use --no-warn-script-location.\n",
      "\n",
      "[notice] A new release of pip is available: 24.0 -> 25.0.1\n",
      "[notice] To update, run: python.exe -m pip install --upgrade pip\n"
     ]
    }
   ],
   "source": [
    "%pip install vosk \n"
   ]
  },
  {
   "cell_type": "code",
   "execution_count": 1,
   "id": "427b087d",
   "metadata": {},
   "outputs": [
    {
     "name": "stdout",
     "output_type": "stream",
     "text": [
      "Adjusting for ambient noise... Please wait.\n",
      "Listening! Say something...\n",
      "\n",
      "Listening...\n",
      "You said: I'm going to try\n",
      "\n",
      "Listening...\n",
      "You said: do a keyboard thing\n",
      "\n",
      "Listening...\n",
      "You said: which key is\n",
      "\n",
      "Listening...\n",
      "You said: is it enter no\n",
      "\n",
      "Listening...\n",
      "You said: Escape\n",
      "\n",
      "Listening...\n",
      "Sorry, I couldn't understand that.\n",
      "\n",
      "Listening...\n",
      "You said: you're still going\n",
      "\n",
      "Listening...\n",
      "You said: just going to press every oh oh is collapse okay\n",
      "\n",
      "Listening...\n",
      "You said: slave work\n",
      "\n",
      "Listening...\n",
      "Sorry, I couldn't understand that.\n",
      "\n",
      "Listening...\n",
      "You said: not bad\n",
      "\n",
      "Listening...\n"
     ]
    },
    {
     "ename": "",
     "evalue": "",
     "output_type": "error",
     "traceback": [
      "\u001b[1;31mThe Kernel crashed while executing code in the current cell or a previous cell. \n",
      "\u001b[1;31mPlease review the code in the cell(s) to identify a possible cause of the failure. \n",
      "\u001b[1;31mClick <a href='https://aka.ms/vscodeJupyterKernelCrash'>here</a> for more info. \n",
      "\u001b[1;31mView Jupyter <a href='command:jupyter.viewOutput'>log</a> for further details."
     ]
    }
   ],
   "source": [
    "import speech_recognition as sr\n",
    "\n",
    "def main():\n",
    "    recognizer = sr.Recognizer()\n",
    "    mic = sr.Microphone()\n",
    "\n",
    "    print(\"Adjusting for ambient noise... Please wait.\")\n",
    "    with mic as source:\n",
    "        recognizer.adjust_for_ambient_noise(source)\n",
    "        print(\"Listening! Say something...\")\n",
    "\n",
    "    try:\n",
    "        while True:\n",
    "            with mic as source:\n",
    "                print(\"\\nListening...\")\n",
    "                audio = recognizer.listen(source)\n",
    "            try:\n",
    "                text = recognizer.recognize_google(audio)\n",
    "                print(\"You said:\", text)\n",
    "            except sr.UnknownValueError:\n",
    "                print(\"Sorry, I couldn't understand that.\")\n",
    "            except sr.RequestError as e:\n",
    "                print(f\"API error: {e}\")\n",
    "    except KeyboardInterrupt:\n",
    "        print(\"\\nExiting...\")\n",
    "\n",
    "if __name__ == \"__main__\":\n",
    "    main()\n"
   ]
  },
  {
   "cell_type": "markdown",
   "id": "bd414837",
   "metadata": {},
   "source": [
    "# Using offline models"
   ]
  },
  {
   "cell_type": "markdown",
   "id": "32ed327c",
   "metadata": {},
   "source": [
    "## vosk"
   ]
  },
  {
   "cell_type": "code",
   "execution_count": 3,
   "id": "9df0aad5",
   "metadata": {},
   "outputs": [
    {
     "name": "stdout",
     "output_type": "stream",
     "text": [
      "Listening (offline)... Press Ctrl+C to stop.\n",
      "You said: oh okay\n",
      "You said: half assed are you can just keep speaking and you'll just start picking it up or do i have to stop speaking as in\n",
      "You said: half past\n",
      "You said: slave good a slave work\n",
      "You said: this is not good this is not a good model\n",
      "You said: oh look it's a pick that up transferring were if i go back over here\n",
      "You said: yeah this is not good\n",
      "You said: oh okay i actually want a bigger\n",
      "You said: oh\n",
      "You said: okay\n",
      "You said: this can be stopped\n",
      "You said: oh\n"
     ]
    },
    {
     "ename": "",
     "evalue": "",
     "output_type": "error",
     "traceback": [
      "\u001b[1;31mThe Kernel crashed while executing code in the current cell or a previous cell. \n",
      "\u001b[1;31mPlease review the code in the cell(s) to identify a possible cause of the failure. \n",
      "\u001b[1;31mClick <a href='https://aka.ms/vscodeJupyterKernelCrash'>here</a> for more info. \n",
      "\u001b[1;31mView Jupyter <a href='command:jupyter.viewOutput'>log</a> for further details."
     ]
    }
   ],
   "source": [
    "import sys\n",
    "import json\n",
    "import queue\n",
    "import pyaudio\n",
    "from vosk import Model, KaldiRecognizer\n",
    "\n",
    "# Set model path\n",
    "MODEL_PATH = \"vosk-model-small-en-us-0.15\"\n",
    "\n",
    "def main():\n",
    "    # Load model\n",
    "    model = Model(MODEL_PATH)\n",
    "    recognizer = KaldiRecognizer(model, 16000)\n",
    "    audio_queue = queue.Queue()\n",
    "\n",
    "    def callback(in_data, frame_count, time_info, status):\n",
    "        audio_queue.put(in_data)\n",
    "        return (None, pyaudio.paContinue)\n",
    "\n",
    "    # Setup PyAudio\n",
    "    p = pyaudio.PyAudio()\n",
    "    stream = p.open(format=pyaudio.paInt16,\n",
    "                    channels=1,\n",
    "                    rate=16000,\n",
    "                    input=True,\n",
    "                    frames_per_buffer=8000,\n",
    "                    stream_callback=callback)\n",
    "    stream.start_stream()\n",
    "\n",
    "    print(\"Listening (offline)... Press Ctrl+C to stop.\")\n",
    "\n",
    "    try:\n",
    "        while True:\n",
    "            data = audio_queue.get()\n",
    "            if recognizer.AcceptWaveform(data):\n",
    "                result = json.loads(recognizer.Result())\n",
    "                if result.get(\"text\"):\n",
    "                    print(\"You said:\", result[\"text\"])\n",
    "            else:\n",
    "                partial = json.loads(recognizer.PartialResult())\n",
    "                # Uncomment to show partial results:\n",
    "                # print(\"Partial:\", partial[\"partial\"])\n",
    "    except KeyboardInterrupt:\n",
    "        print(\"\\nExiting...\")\n",
    "    finally:\n",
    "        stream.stop_stream()\n",
    "        stream.close()\n",
    "        p.terminate()\n",
    "\n",
    "if __name__ == \"__main__\":\n",
    "    main()\n"
   ]
  },
  {
   "cell_type": "markdown",
   "id": "0dd5810c",
   "metadata": {},
   "source": [
    "## Whisper OpenAI"
   ]
  },
  {
   "cell_type": "code",
   "execution_count": 1,
   "id": "a2a80792",
   "metadata": {},
   "outputs": [
    {
     "name": "stderr",
     "output_type": "stream",
     "text": [
      "c:\\Users\\Jon\\AppData\\Local\\Programs\\Python\\Python311\\Lib\\site-packages\\tqdm\\auto.py:21: TqdmWarning: IProgress not found. Please update jupyter and ipywidgets. See https://ipywidgets.readthedocs.io/en/stable/user_install.html\n",
      "  from .autonotebook import tqdm as notebook_tqdm\n"
     ]
    },
    {
     "ename": "",
     "evalue": "",
     "output_type": "error",
     "traceback": [
      "\u001b[1;31mThe Kernel crashed while executing code in the current cell or a previous cell. \n",
      "\u001b[1;31mPlease review the code in the cell(s) to identify a possible cause of the failure. \n",
      "\u001b[1;31mClick <a href='https://aka.ms/vscodeJupyterKernelCrash'>here</a> for more info. \n",
      "\u001b[1;31mView Jupyter <a href='command:jupyter.viewOutput'>log</a> for further details."
     ]
    }
   ],
   "source": [
    "import sounddevice as sd\n",
    "import numpy as np\n",
    "from faster_whisper import WhisperModel\n",
    "import queue\n",
    "\n",
    "# Set up model: \"base\", \"small\", \"medium\", \"large-v2\"\n",
    "model_size = \"small\"\n",
    "model = WhisperModel(model_size, compute_type=\"float16\")  # Use \"int8\" or \"float32\" if needed\n",
    "\n",
    "samplerate = 16000\n",
    "blocksize = 4000\n",
    "audio_queue = queue.Queue()\n",
    "\n",
    "# Callback to collect audio blocks\n",
    "def callback(indata, frames, time, status):\n",
    "    audio_queue.put(indata.copy())\n",
    "\n",
    "# Start audio stream\n",
    "stream = sd.InputStream(samplerate=samplerate, channels=1, callback=callback, blocksize=blocksize)\n",
    "stream.start()\n",
    "\n",
    "print(\"Listening with Whisper... (Ctrl+C to stop)\")\n",
    "try:\n",
    "    buffer = np.empty((0,), dtype=np.float32)\n",
    "\n",
    "    while True:\n",
    "        block = audio_queue.get()\n",
    "        block = block.flatten()\n",
    "        buffer = np.concatenate((buffer, block))\n",
    "\n",
    "        # Run recognition every ~5 seconds\n",
    "        if len(buffer) >= samplerate * 5:\n",
    "            segment = buffer[:samplerate * 5]\n",
    "            buffer = buffer[samplerate * 5:]\n",
    "\n",
    "            segments, _ = model.transcribe(segment, language=\"en\")\n",
    "            for seg in segments:\n",
    "                print(\"You said:\", seg.text.strip())\n",
    "\n",
    "except KeyboardInterrupt:\n",
    "    print(\"\\nExiting...\")\n",
    "    stream.stop()\n"
   ]
  },
  {
   "cell_type": "code",
   "execution_count": 2,
   "id": "86828a8d",
   "metadata": {},
   "outputs": [
    {
     "data": {
      "text/plain": [
       "True"
      ]
     },
     "execution_count": 2,
     "metadata": {},
     "output_type": "execute_result"
    }
   ],
   "source": [
    "'slave' in '''Okay, so I'm talkingslave'''"
   ]
  },
  {
   "cell_type": "code",
   "execution_count": 5,
   "id": "165b4e7e",
   "metadata": {},
   "outputs": [
    {
     "data": {
      "text/plain": [
       "True"
      ]
     },
     "execution_count": 5,
     "metadata": {},
     "output_type": "execute_result"
    }
   ],
   "source": [
    "True and 'work' in '''Okay, so I'm twOrkalkingslave'''.lower()"
   ]
  },
  {
   "cell_type": "code",
   "execution_count": 14,
   "id": "04539c2f",
   "metadata": {},
   "outputs": [],
   "source": [
    "txt = '''Okay, so I'm talkingslave something slave else and then I add work with extra words to add error testing'''\n",
    "\n",
    "start = txt.lower().rfind('slave')\n",
    "end = txt.lower().find('work')"
   ]
  },
  {
   "cell_type": "code",
   "execution_count": 15,
   "id": "c06e5b17",
   "metadata": {},
   "outputs": [
    {
     "data": {
      "text/plain": [
       "' else and then I add '"
      ]
     },
     "execution_count": 15,
     "metadata": {},
     "output_type": "execute_result"
    }
   ],
   "source": [
    "txt[start+5:end]"
   ]
  },
  {
   "cell_type": "code",
   "execution_count": null,
   "id": "6ec1b378",
   "metadata": {},
   "outputs": [],
   "source": []
  }
 ],
 "metadata": {
  "kernelspec": {
   "display_name": "Python 3",
   "language": "python",
   "name": "python3"
  },
  "language_info": {
   "codemirror_mode": {
    "name": "ipython",
    "version": 3
   },
   "file_extension": ".py",
   "mimetype": "text/x-python",
   "name": "python",
   "nbconvert_exporter": "python",
   "pygments_lexer": "ipython3",
   "version": "3.11.9"
  }
 },
 "nbformat": 4,
 "nbformat_minor": 5
}
